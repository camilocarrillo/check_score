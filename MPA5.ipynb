{
 "metadata": {
  "name": ""
 },
 "nbformat": 3,
 "nbformat_minor": 0,
 "worksheets": [
  {
   "cells": [
    {
     "cell_type": "code",
     "collapsed": false,
     "input": [
      "import commands\n",
      "from numpy import arange,array,ones,linalg\n",
      "import random\n",
      "import math\n",
      "import numpy as np\n",
      "\n",
      "def apk(actual, predicted, k=5):\n",
      "    \"\"\"\n",
      "    Computes the average precision at k.\n",
      "    This function computes the average prescision at k between two lists of\n",
      "    items.\n",
      "    Parameters\n",
      "    ----------\n",
      "    actual : list\n",
      "             A list of elements that are to be predicted (order doesn't matter)\n",
      "    predicted : list\n",
      "                A list of predicted elements (order does matter)\n",
      "    k : int, optional\n",
      "        The maximum number of predicted elements\n",
      "    Returns\n",
      "    -------\n",
      "    score : double\n",
      "            The average precision at k over the input lists\n",
      "    \"\"\"\n",
      "    if len(predicted)>k:\n",
      "        predicted = predicted[:k]\n",
      "\n",
      "    score = 0.0\n",
      "    num_hits = 0.0\n",
      "\n",
      "    for i,p in enumerate(predicted):\n",
      "        #if p in actual and p not in predicted[:i]:\n",
      "        if p in actual and p not in predicted[:i]:\n",
      "            num_hits += 1.0\n",
      "            score += num_hits / (i+1.0)\n",
      "\n",
      "    if not actual:\n",
      "        return 0.0\n",
      "\n",
      "    return score / min(len(actual), k)\n",
      "\n",
      "def mapk(actual, predicted, k=5):\n",
      "    \"\"\"\n",
      "    Computes the mean average precision at k.\n",
      "    This function computes the mean average prescision at k between two lists\n",
      "    of lists of items.\n",
      "    Parameters\n",
      "    ----------\n",
      "    actual : list\n",
      "             A list of lists of elements that are to be predicted \n",
      "             (order doesn't matter in the lists)\n",
      "    predicted : list\n",
      "                A list of lists of predicted elements\n",
      "                (order matters in the lists)\n",
      "    k : int, optional\n",
      "        The maximum number of predicted elements\n",
      "    Returns\n",
      "    -------\n",
      "    score : double\n",
      "            The mean average precision at k over the input lists\n",
      "    \"\"\"\n",
      "    print  np.mean([apk(a,p,k) for a,p in zip(actual, predicted)])\n",
      "    return np.mean([apk(a,p,k) for a,p in zip(actual, predicted)])"
     ],
     "language": "python",
     "metadata": {},
     "outputs": [],
     "prompt_number": 81
    },
    {
     "cell_type": "code",
     "collapsed": false,
     "input": [
      "def loadTrue (filename,true):\n",
      "    del true[:]\n",
      "    f = open(filename, 'r')\n",
      "    first = True\n",
      "    for line in f:\n",
      "        if first == False:\n",
      "            true.append(int(line.split()[1]))\n",
      "        else:\n",
      "            first = False\n",
      "    print len(true)\n",
      "    return"
     ],
     "language": "python",
     "metadata": {},
     "outputs": [],
     "prompt_number": 82
    },
    {
     "cell_type": "code",
     "collapsed": false,
     "input": [
      "def loadPrediction (filename,predictions):\n",
      "    f = open(filename, 'r')\n",
      "    lines = 1\n",
      "    for line in f:\n",
      "        if lines != 1:\n",
      "            id=line.split(',')[0]\n",
      "            hotel_clusters = line.split(',')[1]\n",
      "            array_hotel_clusters = []\n",
      "            array_hotel_clusters[:] = [int(i) for i in hotel_clusters.split(' ')]\n",
      "            predictions.append(array_hotel_clusters)\n",
      "        lines=lines+1\n",
      "    print len(predictions)\n",
      "    return"
     ],
     "language": "python",
     "metadata": {},
     "outputs": [],
     "prompt_number": 83
    },
    {
     "cell_type": "code",
     "collapsed": false,
     "input": [
      "def compute_score (true,predictions):\n",
      "    sum = 0.\n",
      "    #print true[0],predictions[0]\n",
      "    #i=0\n",
      "    P = 0\n",
      "    \n",
      "    for i in range(0,len(predictions)):\n",
      "        prediction=predictions[i]\n",
      "        for j in range(0,len(prediction)):\n",
      "            if(prediction[j] == true[i]):\n",
      "                #P+=(1/float(j+1.))/float(len(prediction)\n",
      "                P+=(1/float(j+1.))\n",
      "        #if (i<10):\n",
      "            #print int(100*random.random()),\" \",int(100*random.random()),\" \",int(100*random.random()),\" \",int(100*random.random()),\" \",int(100*random.random())          \n",
      "            #print \"i:\",i,\"prediction:\",prediction,\"len(prediction)\",len(prediction),\"true:\",true[i],\"P:\",P\n",
      "    \n",
      "    len_predictions=float(len(predictions))\n",
      "    score = P/len_predictions\n",
      "    #error = math.sqrt(score(1.-score)/len_predictions)\n",
      "    #rint score,\"+/-\",error\n",
      "    print score\n",
      "    return \n",
      "\n",
      "true_hotel_cluster = []\n",
      "predictiontop5 = []\n",
      "predictionrandom5 = []\n",
      "#loadTrue(\"int_hc_100.txt\",true)\n",
      "#loadPrediction('submit_top5_100.txt',prediction)\n",
      "loadTrue(\"int_hc.txt\",true_hotel_cluster)\n",
      "loadPrediction('submit_top5.txt',predictiontop5)\n",
      "loadPrediction('submit_random5.txt',predictionrandom5)\n",
      "print \"for Top 5:\"\n",
      "compute_score(true_hotel_cluster,predictiontop5)\n",
      "print \"for Random:\"\n",
      "compute_score(true_hotel_cluster,predictionrandom5)"
     ],
     "language": "python",
     "metadata": {},
     "outputs": [
      {
       "output_type": "stream",
       "stream": "stdout",
       "text": [
        "10000\n",
        "10000\n",
        "10000"
       ]
      },
      {
       "output_type": "stream",
       "stream": "stdout",
       "text": [
        "\n",
        "for Top 5:\n",
        "0.052065\n",
        "for Random:\n",
        "0.0209733333333\n"
       ]
      }
     ],
     "prompt_number": 102
    },
    {
     "cell_type": "code",
     "collapsed": false,
     "input": [
      "#"
     ],
     "language": "python",
     "metadata": {},
     "outputs": [],
     "prompt_number": 68
    },
    {
     "cell_type": "code",
     "collapsed": false,
     "input": [],
     "language": "python",
     "metadata": {},
     "outputs": []
    }
   ],
   "metadata": {}
  }
 ]
}